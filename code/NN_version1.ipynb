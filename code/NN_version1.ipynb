{
 "cells": [
  {
   "cell_type": "markdown",
   "id": "b01382b3",
   "metadata": {},
   "source": [
    "# Neural Network using tensorflow\n"
   ]
  },
  {
   "cell_type": "code",
   "execution_count": 9,
   "id": "ce8c30f3",
   "metadata": {},
   "outputs": [],
   "source": [
    "import tensorflow.keras as tf\n",
    "# use keras API\n",
    "model = tf.Sequential()"
   ]
  },
  {
   "cell_type": "code",
   "execution_count": null,
   "id": "65df864e",
   "metadata": {},
   "outputs": [],
   "source": []
  }
 ],
 "metadata": {
  "kernelspec": {
   "display_name": "Python 3",
   "language": "python",
   "name": "python3"
  },
  "language_info": {
   "codemirror_mode": {
    "name": "ipython",
    "version": 3
   },
   "file_extension": ".py",
   "mimetype": "text/x-python",
   "name": "python",
   "nbconvert_exporter": "python",
   "pygments_lexer": "ipython3",
   "version": "3.8.8"
  }
 },
 "nbformat": 4,
 "nbformat_minor": 5
}
