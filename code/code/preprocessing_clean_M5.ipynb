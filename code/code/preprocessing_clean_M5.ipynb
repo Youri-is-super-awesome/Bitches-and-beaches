{
 "cells": [
  {
   "cell_type": "markdown",
   "metadata": {},
   "source": [
    "## Preprocessing part 1: cleaning the data"
   ]
  },
  {
   "cell_type": "markdown",
   "metadata": {},
   "source": [
    "### Project description\n",
    "Estimate the value of houses in Ames, Iowa, using 79 explanatory variables. The dataset is fairly small, with only 1460 training samples. The 79 features in the dataset are a mix of categorical and numerical features, and leave a lot of room for feature engineering.\n",
    "\n",
    "This notebook merely preprocesses the data so it can be used for building a neural network model."
   ]
  },
  {
   "cell_type": "code",
   "execution_count": null,
   "metadata": {},
   "outputs": [],
   "source": [
    "# import libraries\n",
    "import pandas as pd\n",
    "import numpy as np\n",
    "import seaborn as sns\n",
    "import matplotlib.pyplot as plt\n",
    "from scipy.stats import zscore"
   ]
  },
  {
   "cell_type": "code",
   "execution_count": null,
   "metadata": {},
   "outputs": [],
   "source": [
    "# determine if data needs to be exported with dummies for catgecorical features\n",
    "get_dummies = False"
   ]
  },
  {
   "cell_type": "markdown",
   "metadata": {},
   "source": [
    "### Data information"
   ]
  },
  {
   "cell_type": "code",
   "execution_count": null,
   "metadata": {},
   "outputs": [],
   "source": [
    "# import data form keggle competition\n",
    "clean_data = pd.read_csv('data/AmesHousing.csv')\n",
    "test_data = pd.read_csv('data/test.csv')\n",
    "train_data = pd.read_csv('data/train.csv')\n",
    "\n",
    "clean_data.head()"
   ]
  },
  {
   "cell_type": "markdown",
   "metadata": {},
   "source": [
    "There are multiple types of variables. Integers, floats, strings, NaN's. Use df.info() to gain detailed insight.\n"
   ]
  },
  {
   "cell_type": "code",
   "execution_count": null,
   "metadata": {},
   "outputs": [],
   "source": [
    "# display data information\n",
    "clean_data.info()"
   ]
  },
  {
   "cell_type": "markdown",
   "metadata": {},
   "source": [
    "There are 2930 entries, numbered 0 to 2929, with **81 different features**. The **target feature** is 'SalePrice'. Some features have (many) missing values. For instance, 'Alley', 'Pool QC', 'Fence', and 'Misc Feature'. These need to be fixed. "
   ]
  },
  {
   "cell_type": "markdown",
   "metadata": {},
   "source": [
    "### Cleaning the data"
   ]
  },
  {
   "cell_type": "markdown",
   "metadata": {},
   "source": [
    "#### Dropping features\n",
    "Drop features which data (almost) all falls in the same category or have unique values for each datapoint."
   ]
  },
  {
   "cell_type": "code",
   "execution_count": null,
   "metadata": {},
   "outputs": [],
   "source": [
    "# drop column 'Order' since it is unique for each house\n",
    "clean_data = clean_data.drop('Order', axis=1)"
   ]
  },
  {
   "cell_type": "code",
   "execution_count": null,
   "metadata": {},
   "outputs": [],
   "source": [
    "# drop features which data falls in the same category (> 95% in one category)\n",
    "clean_data = clean_data.drop('Street', axis=1)\n",
    "clean_data = clean_data.drop('Utilities', axis=1)\n",
    "clean_data = clean_data.drop('Condition 2', axis=1)\n",
    "clean_data = clean_data.drop('Roof Matl', axis=1)\n",
    "clean_data = clean_data.drop('Heating', axis=1)\n",
    "clean_data = clean_data.drop('Misc Feature', axis=1)\n",
    "clean_data = clean_data.drop('Central Air', axis=1)"
   ]
  },
  {
   "cell_type": "markdown",
   "metadata": {},
   "source": [
    "#### Dropping outliers\n",
    "First, the ourliers are checked by plotting the general living area and garage year with the sale price, as is mentioned in the documentation of the dataset."
   ]
  },
  {
   "cell_type": "code",
   "execution_count": null,
   "metadata": {},
   "outputs": [],
   "source": [
    "sns.scatterplot(clean_data['Gr Liv Area'], clean_data['SalePrice'])\n",
    "plt.show()"
   ]
  },
  {
   "cell_type": "code",
   "execution_count": null,
   "metadata": {},
   "outputs": [],
   "source": [
    "sns.scatterplot(clean_data['Garage Yr Blt'], clean_data['SalePrice'])\n",
    "plt.show()"
   ]
  },
  {
   "cell_type": "markdown",
   "metadata": {},
   "source": [
    "There are 5 ourliers visible that can be removed by removing datasamples with a general living area greater than 4000 and garage build > 2010."
   ]
  },
  {
   "cell_type": "code",
   "execution_count": null,
   "metadata": {},
   "outputs": [],
   "source": [
    "mask = clean_data['Gr Liv Area'] > 4000\n",
    "drop_sample = clean_data[mask]\n",
    "clean_data = clean_data.drop(drop_sample.index, axis = 0)\n",
    "\n",
    "mask = clean_data['Garage Yr Blt'] > 2010\n",
    "outlier_garage = clean_data['Garage Yr Blt'][mask]\n",
    "clean_data['Garage Yr Blt'][outlier_garage.index] = np.nan"
   ]
  },
  {
   "cell_type": "markdown",
   "metadata": {},
   "source": [
    "#### Dealing with categorical features who are classified as numeric features\n",
    "\n",
    "Some features in the dataset are stored as numeric data, but are actually categorical features. They are hence converted to string values, so they get the same treatment as categorical features.\n",
    "\n",
    "The only feature that is wrongly classified is: MS SubClass (the building class)"
   ]
  },
  {
   "cell_type": "code",
   "execution_count": null,
   "metadata": {},
   "outputs": [],
   "source": [
    "clean_data[\"MS SubClass\"] = clean_data[\"MS SubClass\"].apply(str)"
   ]
  },
  {
   "cell_type": "markdown",
   "metadata": {},
   "source": [
    "#### Changing ordinal categorical features to numerical features\n",
    "\n",
    "1. A function is made that can change ordinal categorical data to numerical features\n",
    "1. Dictonaries are created with the categories within features as keys and the corresponding numerical value as dictonary value\n",
    "3. Lists are created with the features that need to be replaced \n"
   ]
  },
  {
   "cell_type": "code",
   "execution_count": null,
   "metadata": {},
   "outputs": [],
   "source": [
    "def ordinal_to_num(lists, dicts):\n",
    "    '''\n",
    "    Takes a list and a dictonary. Replaces the categories in a feature to a nummerical.\n",
    "    '''\n",
    "    # loop over the features in the list\n",
    "    for feature in lists:\n",
    "        \n",
    "        # replace the categories for the feature with the value of the dictonary\n",
    "        if feature in clean_data:\n",
    "            clean_data[feature] = clean_data[feature].map(dicts)"
   ]
  },
  {
   "cell_type": "code",
   "execution_count": null,
   "metadata": {},
   "outputs": [],
   "source": [
    "# create the list and dictonary for the most common categories\n",
    "common_ordinal_dict = {'Ex':5, 'Gd': 4, 'TA': 3, 'Fa': 2, 'Po': 1, 'NA': 0}\n",
    "common_list_num_cats = ['Exter Qual', 'Exter Cond', 'Bsmt Cond', 'Heating QC', 'Kitchen Qual', 'Fireplace Qu', 'Garage Qual', 'Garage Cond', 'Bsmt Qual', 'Bsmt Qual']\n",
    "\n",
    "# change these to numerical features\n",
    "ordinal_to_num(common_list_num_cats, common_ordinal_dict)\n",
    "\n",
    "# create list and dict for Pool QC \n",
    "PoolQC_list = ['Pool QC']\n",
    "PoolQC_dict = {'Ex':4, 'Gd': 3, 'TA': 2, 'Fa': 1, 'NA': 0}\n",
    "\n",
    "# execute the change for Pool QC\n",
    "ordinal_to_num(PoolQC_list, PoolQC_dict)\n",
    "\n",
    "# create list and dict for Land Slope\n",
    "slope_list = ['Land Slope']\n",
    "slope_dict = {'Gtl': 1, 'Mod': 2, 'Sev': 3}\n",
    "\n",
    "# execute the change for Land slope\n",
    "ordinal_to_num(slope_list, slope_dict)\n",
    "\n",
    "# create list and dict for Bsmt Exposure\n",
    "Bsmt_exposure_list = ['Bsmt Exposure']\n",
    "Bsmt_exposure_dict = {'Gd': 4, 'Av': 3, 'Mn': 2, 'No': 1, 'NA': 0}\n",
    "\n",
    "# execute the change for Bsmt Exposure\n",
    "ordinal_to_num(Bsmt_exposure_list, Bsmt_exposure_dict)\n",
    "\n",
    "# create list and dict of the types of finished basement\n",
    "bsmtFin_list = ['BsmtFin Type 1', 'BsmtFin Type 2']\n",
    "bsmtFin_dict = {'GLQ': 6, 'ALQ': 5, 'BLQ': 4, 'Rec': 3, 'LwQ': 2, 'Unf': 1, 'NA': 0}\n",
    "\n",
    "# create list and dict of the types of unfinished basement\n",
    "ordinal_to_num(bsmtFin_list, bsmtFin_dict)\n",
    "\n",
    "display(clean_data)"
   ]
  },
  {
   "cell_type": "markdown",
   "metadata": {},
   "source": [
    "#### Dealing with missing values\n",
    "\n",
    "There are the following options/steps to deal with missing values:\n",
    "\n",
    "1. Delete the whole column (feature) containing the missing values\n",
    "2. Replace the missing values with some other value"
   ]
  },
  {
   "cell_type": "code",
   "execution_count": null,
   "metadata": {},
   "outputs": [],
   "source": [
    "# get overview of missing values\n",
    "clean_data.isnull()"
   ]
  },
  {
   "cell_type": "code",
   "execution_count": null,
   "metadata": {},
   "outputs": [],
   "source": [
    "# Calculates the percentage of missing data per feature\n",
    "percentage = 100 * clean_data.isnull().sum() / len(clean_data)\n",
    "      \n",
    "# sort in ascending order\n",
    "percent_missing_data = percentage[percentage > 0].sort_values()\n",
    "\n",
    "# plot percentage missing data per feature\n",
    "sns.barplot(x = percent_missing_data.index, y = percent_missing_data)\n",
    "plt.title('Percentage of missing data per feature')\n",
    "plt.xlabel('Feature')\n",
    "plt.ylabel('Percent of missing values (%)')\n",
    "plt.xticks(rotation = 90)\n",
    "plt.show()"
   ]
  },
  {
   "cell_type": "markdown",
   "metadata": {},
   "source": [
    "**Option 1: Delete the whole column (feature) containing the missing values**"
   ]
  },
  {
   "cell_type": "code",
   "execution_count": null,
   "metadata": {},
   "outputs": [],
   "source": [
    "# drop features with more than 20% data missing\n",
    "drop_features = percent_missing_data[percent_missing_data >= 20]\n",
    "drop_features = drop_features.index.tolist()\n",
    "\n",
    "clean_data = clean_data.drop(drop_features, axis = 1)"
   ]
  },
  {
   "cell_type": "markdown",
   "metadata": {},
   "source": [
    "**Option 2: Replace the missing values with some other value**\n",
    "\n",
    "Replace the missing values with some other value. For **categorical data**, replace the missing value with 'none'.\n",
    "For **numerical data**, inspect each numeric feature seperately and decide how to best replace its missing values. \n",
    "First, single out the features that have missing values. "
   ]
  },
  {
   "cell_type": "code",
   "execution_count": null,
   "metadata": {},
   "outputs": [],
   "source": [
    "# select features that have missing values between 1 and 20 percent missing data\n",
    "discuss_features = percent_missing_data[percent_missing_data < 20]\n",
    "discuss_features = discuss_features.index.tolist()\n",
    "\n",
    "print(f\"The following features have less than 20% missing values: {', '.join(discuss_features)}\\n\")"
   ]
  },
  {
   "cell_type": "markdown",
   "metadata": {},
   "source": [
    "**1. Replace Lot Frontage** \n",
    "\n",
    "For lot frontage, the average lot frontage is taken per neighborhood and the missing value is replaced with the average of the neighborhood"
   ]
  },
  {
   "cell_type": "code",
   "execution_count": null,
   "metadata": {},
   "outputs": [],
   "source": [
    "# compute means of lot frontage per neighborhood\n",
    "lot_means = clean_data.groupby('Neighborhood')['Lot Frontage'].mean()\n",
    "\n",
    "# replace missing values \n",
    "clean_data['Lot Frontage'] = clean_data.groupby('Neighborhood')['Lot Frontage'].transform(lambda val: val.fillna(val.mean()))\n",
    "\n",
    "# for GrHill use Timber mean since it is the closest neigboorhood\n",
    "clean_data[clean_data['Neighborhood'] == 'GrnHill'] = clean_data[clean_data['Neighborhood'] == 'GrnHill'].fillna(lot_means['Timber'])\n",
    "\n",
    "# for Landmrk use Old Town mean since it is the closes neigboorhood\n",
    "clean_data[clean_data['Neighborhood'] == 'Landmrk'] = clean_data[clean_data['Neighborhood'] == 'Landmrk'].fillna(lot_means['OldTown'])\n"
   ]
  },
  {
   "cell_type": "markdown",
   "metadata": {},
   "source": [
    "**2. Garage year built**\n",
    "\n",
    "The average difference between the house year built and the garage year built is taken. When replacing the missing value for the garage year built, the House year built is taken, + the average difference.  "
   ]
  },
  {
   "cell_type": "code",
   "execution_count": null,
   "metadata": {},
   "outputs": [],
   "source": [
    "# define difference between building years of house and garage\n",
    "dev = clean_data['Year Built'] - clean_data['Garage Yr Blt']\n",
    "\n",
    "# define the average difference\n",
    "avg_dev = np.round((dev.sum() / len(dev)), 0)\n",
    "\n",
    "# fill the nan values with the building year house with the avg deviation\n",
    "clean_data['Garage Yr Blt'] = clean_data['Garage Yr Blt'].fillna(clean_data['Year Built'] + avg_dev)\n"
   ]
  },
  {
   "cell_type": "code",
   "execution_count": null,
   "metadata": {},
   "outputs": [],
   "source": [
    "def replace_values(dataframe):\n",
    "    '''\n",
    "    Replaces the missing values left in the dataframe. If the missing value is in a categorical feature, \n",
    "    we replace the value for a 'None' string. In this case, you can still use that feature. \n",
    "    For the numeric features, the missing values are replace with the average of that feature. \n",
    "    '''\n",
    "    for feature in dataframe:\n",
    "        # single out categorical features and replace missing value with none\n",
    "        if clean_data.dtypes[feature] == object:\n",
    "            clean_data[feature] = clean_data[feature].fillna('None')\n",
    "\n",
    "        # single out numerical features and replace missing value with mean\n",
    "        else: \n",
    "            clean_data[feature] = clean_data[feature].fillna(clean_data[feature].mean())\n",
    "    \n",
    "    return clean_data"
   ]
  },
  {
   "cell_type": "code",
   "execution_count": null,
   "metadata": {},
   "outputs": [],
   "source": [
    "# replace all missing values that are left\n",
    "clean_data = replace_values(clean_data)\n",
    "\n",
    "# check if all missing values are replaced\n",
    "clean_data.info()"
   ]
  },
  {
   "cell_type": "markdown",
   "metadata": {},
   "source": [
    "## Rescaling data"
   ]
  },
  {
   "cell_type": "code",
   "execution_count": null,
   "metadata": {},
   "outputs": [],
   "source": [
    "# create dataframe with categorical data\n",
    "cat_data = clean_data.select_dtypes(include = 'object')\n",
    "cat_data.head()"
   ]
  },
  {
   "cell_type": "code",
   "execution_count": null,
   "metadata": {},
   "outputs": [],
   "source": [
    "# create dataframe with numerical data\n",
    "num_data = clean_data.drop(cat_data, axis = 1)\n",
    "num_data.head()"
   ]
  },
  {
   "cell_type": "code",
   "execution_count": null,
   "metadata": {},
   "outputs": [],
   "source": [
    "# get dummies from cat data if prompted\n",
    "if get_dummies == True:\n",
    "    cat_data = pd.get_dummies(cat_data, drop_first=True)"
   ]
  },
  {
   "cell_type": "code",
   "execution_count": null,
   "metadata": {},
   "outputs": [],
   "source": [
    "# temporary remove target value Saleprice\n",
    "# since that should not be rescaled with Zscore\n",
    "target = num_data['SalePrice']\n",
    "num_data = num_data.drop(['SalePrice', 'PID'], axis=1) \n",
    "\n",
    "# store houses unique ID's in seperate series\n",
    "ID = clean_data['PID']\n",
    "\n",
    "# transform Sale Price in log Sale Price\n",
    "target = np.log10(target)\n",
    "\n",
    "# feature scale numerical data using Zscore \n",
    "# note that we do not want to normalize our one-hot encoded data as those are already within [0,1] range\n",
    "# source: \"https://stackoverflow.com/a/41713622\"\n",
    "num_data = num_data.apply(zscore)"
   ]
  },
  {
   "cell_type": "code",
   "execution_count": null,
   "metadata": {},
   "outputs": [],
   "source": [
    "# merge categorical and numerical dataframe\n",
    "num_data = pd.concat([num_data, target, ID], axis = 1)\n",
    "clean_data = pd.concat([cat_data, num_data], axis = 1)\n",
    "\n",
    "# check ditribution of data\n",
    "display(clean_data.describe())"
   ]
  },
  {
   "cell_type": "markdown",
   "metadata": {},
   "source": [
    "## Splitting data in test and training data"
   ]
  },
  {
   "cell_type": "code",
   "execution_count": null,
   "metadata": {},
   "outputs": [],
   "source": [
    "# extract training and test houses in clean_data with ID\n",
    "train_ID = train_data['PID'].to_numpy()\n",
    "test_ID = test_data['PID'].to_numpy()\n",
    "\n",
    "# split dataframe into test and train data\n",
    "train_data = clean_data[clean_data['PID'].isin(train_ID)]\n",
    "test_data = clean_data[clean_data['PID'].isin(test_ID)]"
   ]
  },
  {
   "cell_type": "code",
   "execution_count": null,
   "metadata": {},
   "outputs": [],
   "source": [
    "# drop PID's\n",
    "clean_data = clean_data.drop('PID', axis=1)\n",
    "train_data = train_data.drop('PID', axis=1)\n",
    "test_data = test_data.drop('PID', axis=1)"
   ]
  },
  {
   "cell_type": "code",
   "execution_count": null,
   "metadata": {},
   "outputs": [],
   "source": [
    "# display info clean_data\n",
    "clean_data.head()"
   ]
  },
  {
   "cell_type": "markdown",
   "metadata": {},
   "source": [
    "## Exporting data to csv files"
   ]
  },
  {
   "cell_type": "code",
   "execution_count": null,
   "metadata": {},
   "outputs": [],
   "source": [
    "# export final cleaned dataframe to csv file  \n",
    "if get_dummies == True:\n",
    "    clean_data.to_csv('data/clean_data.csv', index=False)  \n",
    "    train_data.to_csv('data/clean_train_data.csv', index=False)\n",
    "    test_data.to_csv('data/clean_test_data.csv', index=False)\n",
    "    \n",
    "else:\n",
    "    clean_data.to_csv('data/clean_nodummies_data.csv', index=False)  "
   ]
  },
  {
   "cell_type": "code",
   "execution_count": null,
   "metadata": {},
   "outputs": [],
   "source": []
  }
 ],
 "metadata": {
  "kernelspec": {
   "display_name": "Python 3",
   "language": "python",
   "name": "python3"
  },
  "language_info": {
   "codemirror_mode": {
    "name": "ipython",
    "version": 3
   },
   "file_extension": ".py",
   "mimetype": "text/x-python",
   "name": "python",
   "nbconvert_exporter": "python",
   "pygments_lexer": "ipython3",
   "version": "3.8.8"
  }
 },
 "nbformat": 4,
 "nbformat_minor": 4
}
