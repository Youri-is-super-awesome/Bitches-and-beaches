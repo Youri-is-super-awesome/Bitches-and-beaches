{
 "cells": [
  {
   "cell_type": "markdown",
   "id": "052dd428",
   "metadata": {},
   "source": [
    "# Neural Network: version 2"
   ]
  },
  {
   "cell_type": "code",
   "execution_count": null,
   "id": "9c101da9",
   "metadata": {},
   "outputs": [],
   "source": [
    "# import libraries\n",
    "import pandas as pd\n",
    "import matplotlib.pyplot as plt\n",
    "import numpy as np\n",
    "\n",
    "import tensorflow.keras as tf\n",
    "from tf.models import Sequential\n",
    "from tf.layers import Dense, Activation\n",
    "from tf.optimizers import Adam\n",
    "\n",
    "from sklearn.model_selection import train_test_split\n",
    "from sklearn import metrics"
   ]
  },
  {
   "cell_type": "code",
   "execution_count": null,
   "id": "81b103f6",
   "metadata": {},
   "outputs": [],
   "source": [
    "# load keggle competition data\n",
    "test_df = pd.read_csv('data/keggle_test_data.csv')\n",
    "train_df = pd.read_csv('data/keggle_train_data.csv')\n",
    "\n",
    "display(test_df)"
   ]
  },
  {
   "cell_type": "code",
   "execution_count": null,
   "id": "4806331a",
   "metadata": {},
   "outputs": [],
   "source": [
    "# split data into input X and target Y\n",
    "target_train = train_df['SalePrice']\n",
    "target_test = test_df['SalePrice']\n",
    "\n",
    "input_train = train_df.drop('SalePrice', axis=1)\n",
    "input_test = test_df.drop('SalePrice', axis=1)\n",
    "\n",
    "display(input_train)\n",
    "display(input_test)"
   ]
  },
  {
   "cell_type": "code",
   "execution_count": null,
   "id": "f8968efc",
   "metadata": {},
   "outputs": [],
   "source": [
    "# convert the pandas dataframes to numpy ndarrays\n",
    "X_train = input_train.to_numpy()\n",
    "X_test = input_test.to_numpy()\n",
    "y_train = target_train.to_numpy()\n",
    "y_test = target_test.to_numpy()\n",
    "\n",
    "# find number of features\n",
    "n_features = input_train.shape[1]"
   ]
  },
  {
   "cell_type": "code",
   "execution_count": null,
   "id": "706251ae",
   "metadata": {},
   "outputs": [],
   "source": [
    "# define metrics\n",
    "# Root Mean Square Error function from Keras Metrics. \n",
    "# source: https://www.tensorflow.org/api_docs/python/tf/keras/metrics/RootMeanSquaredError\n",
    "m1 = tf.metrics.RootMeanSquaredError()\n",
    "#m2 = 'mean_absolute_percentage_error'\n",
    "\n",
    "# create layers\n",
    "model = tf.Sequential([\n",
    "    Dense(160),\n",
    "    Dense(224, activation='tanh'),\n",
    "    Dense(112, activation='tanh'),\n",
    "    Dense(240, activation='tanh'),\n",
    "    Dense(1, input_shape=(n_features,)),\n",
    "])\n",
    "\n",
    "# compile model\n",
    "# use Adam as optimizer because of fast and accurate converging \n",
    "# source: https://medium.com/mdr-inc/from-sgd-to-adam-c9fce513c4bb \n",
    "model.compile(optimizer='Adam', loss=tf.metrics.mean_squared_error, metrics=[m1])"
   ]
  },
  {
   "cell_type": "code",
   "execution_count": null,
   "id": "74efa5f5",
   "metadata": {},
   "outputs": [],
   "source": [
    "# fit the model\n",
    "# choose batch size of 32 after trying 32, 64 and 128\n",
    "# source: https://datascience.stackexchange.com/questions/18414/are-there-any-rules-for-choosing-the-size-of-a-mini-batch\n",
    "model.fit(X_train, y_train,\n",
    "          batch_size=32, epochs=200,\n",
    "          validation_data=(X_test, y_test))"
   ]
  },
  {
   "cell_type": "code",
   "execution_count": null,
   "id": "69e917f2",
   "metadata": {},
   "outputs": [],
   "source": [
    "model.summary()"
   ]
  },
  {
   "cell_type": "code",
   "execution_count": null,
   "id": "1606f70f",
   "metadata": {},
   "outputs": [],
   "source": [
    "loss_df = pd.DataFrame(model.history.history)\n",
    "\n",
    "# plot the train and test rmse\n",
    "loss_df['val_root_mean_squared_error'].plot(figsize=(12,8))\n",
    "loss_df['root_mean_squared_error'].plot(figsize=(12,8))\n",
    "plt.title(\"Model information\")\n",
    "plt.yscale('log')\n",
    "plt.xlabel(\"epochs\")\n",
    "plt.legend()\n",
    "plt.show()"
   ]
  },
  {
   "cell_type": "code",
   "execution_count": null,
   "id": "dd0265a0",
   "metadata": {},
   "outputs": [],
   "source": [
    "y_pred = model.predict(X_test)\n",
    "var_score = metrics.explained_variance_score(y_test,y_pred)\n",
    "\n",
    "# print the metrices scores of the model\n",
    "print('Variance score:', var_score)\n",
    "print('\\nRMSE:',loss_df['root_mean_squared_error'].tail(1))\n",
    "print('\\nval RMSE:',loss_df['val_root_mean_squared_error'].tail(1))\n",
    "print('\\nTrain Loss:',loss_df['loss'].tail(1))\n",
    "print('\\nTest Loss:',loss_df['val_loss'].tail(1))\n",
    "print('\\nMAPE:',loss_df['mean_absolute_percentage_error'].tail(1))\n",
    "print('\\nval MAPE:',loss_df['val_mean_absolute_percentage_error'].tail(1))"
   ]
  }
 ],
 "metadata": {
  "kernelspec": {
   "display_name": "Python 3",
   "language": "python",
   "name": "python3"
  },
  "language_info": {
   "codemirror_mode": {
    "name": "ipython",
    "version": 3
   },
   "file_extension": ".py",
   "mimetype": "text/x-python",
   "name": "python",
   "nbconvert_exporter": "python",
   "pygments_lexer": "ipython3",
   "version": "3.8.8"
  }
 },
 "nbformat": 4,
 "nbformat_minor": 5
}
