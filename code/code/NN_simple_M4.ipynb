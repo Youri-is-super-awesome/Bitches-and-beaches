{
 "cells": [
  {
   "cell_type": "markdown",
   "id": "fb9244f3",
   "metadata": {},
   "source": [
    "# Neural Network: version 1\n",
    "For this model whe used some information from \"https://machinelearningmastery.com/tensorflow-tutorial-deep-learning-with-tf-keras/\""
   ]
  },
  {
   "cell_type": "code",
   "execution_count": null,
   "id": "f61d309a",
   "metadata": {},
   "outputs": [],
   "source": [
    "# import libraries\n",
    "import tensorflow.keras as tf\n",
    "import pandas as pd\n",
    "import matplotlib.pyplot as plt\n",
    "import numpy as np\n",
    "from sklearn.model_selection import train_test_split\n",
    "from tensorflow.keras.models import Sequential\n",
    "from tensorflow.keras.layers import Dense, Activation\n",
    "from tensorflow.keras.optimizers import Adam\n",
    "from sklearn import metrics"
   ]
  },
  {
   "cell_type": "code",
   "execution_count": null,
   "id": "cdcf179d",
   "metadata": {},
   "outputs": [],
   "source": [
    "# import the data\n",
    "test_df = pd.read_csv('data/clean_test_data.csv')\n",
    "train_df = pd.read_csv('data/clean_train_data.csv')\n",
    "\n",
    "display(test_df)\n",
    "display(train_df)"
   ]
  },
  {
   "cell_type": "code",
   "execution_count": null,
   "id": "64b618e3",
   "metadata": {},
   "outputs": [],
   "source": [
    "# split data into input X and target Y\n",
    "target_train = train_df['SalePrice']\n",
    "target_test = test_df['SalePrice']\n",
    "input_train = train_df.drop('SalePrice', axis=1)\n",
    "input_test = test_df.drop('SalePrice', axis=1)\n",
    "\n",
    "display(test_df)\n",
    "display(train_df)"
   ]
  },
  {
   "cell_type": "code",
   "execution_count": null,
   "id": "f6791fed",
   "metadata": {},
   "outputs": [],
   "source": [
    "# convert the pandas dataframes to numpy ndarrays\n",
    "X_train = input_train.to_numpy()\n",
    "X_test = input_test.to_numpy()\n",
    "y_train = target_train.to_numpy()\n",
    "y_test = target_test.to_numpy()\n",
    "\n",
    "# find number of features\n",
    "n_features = input_train.shape[1]"
   ]
  },
  {
   "cell_type": "code",
   "execution_count": null,
   "id": "21cf814a",
   "metadata": {},
   "outputs": [],
   "source": [
    "# define metrics\n",
    "# Root Mean Square Error function from Keras Metrics. \n",
    "# source: https://www.tensorflow.org/api_docs/python/tf/keras/metrics/RootMeanSquaredError\n",
    "m1 = tf.metrics.RootMeanSquaredError()\n",
    "m2 = 'mean_absolute_percentage_error'\n",
    "\n",
    "# create layers\n",
    "model = tf.Sequential([\n",
    "    Dense(1, input_shape=(n_features,)),\n",
    "])\n",
    "\n",
    "# compile model\n",
    "# use Adam as optimizer because of fast and accurate converging \n",
    "# source: https://medium.com/mdr-inc/from-sgd-to-adam-c9fce513c4bb \n",
    "model.compile(optimizer='Adam', loss=tf.metrics.mean_squared_error, metrics=[m1, m2])"
   ]
  },
  {
   "cell_type": "code",
   "execution_count": null,
   "id": "47cef719",
   "metadata": {},
   "outputs": [],
   "source": [
    "# fit the model\n",
    "# choose batch size of 32 after trying 32, 64 and 128\n",
    "# source: https://datascience.stackexchange.com/questions/18414/are-there-any-rules-for-choosing-the-size-of-a-mini-batch\n",
    "model.fit(X_train, y_train,\n",
    "          batch_size=32, epochs=200,\n",
    "          validation_data=(X_test, y_test))"
   ]
  },
  {
   "cell_type": "code",
   "execution_count": null,
   "id": "fa0ad6df",
   "metadata": {},
   "outputs": [],
   "source": [
    "model.summary()"
   ]
  },
  {
   "cell_type": "code",
   "execution_count": null,
   "id": "1200a2c6",
   "metadata": {},
   "outputs": [],
   "source": [
    "# plot the loss during converging of the model\n",
    "loss_df = pd.DataFrame(model.history.history)\n",
    "\n",
    "loss_df.plot(figsize=(12,8))\n",
    "plt.title(\"Model information\")\n",
    "plt.yscale('log')\n",
    "plt.xlabel(\"epochs\")\n",
    "plt.show()"
   ]
  },
  {
   "cell_type": "code",
   "execution_count": null,
   "id": "cf5ed97f",
   "metadata": {},
   "outputs": [],
   "source": [
    "# compute the accuracy of the model \n",
    "y_pred = model.predict(X_test)\n",
    "var_score = metrics.explained_variance_score(y_test,y_pred)\n",
    "\n",
    "print('Variance score:', var_score)\n",
    "print('\\nRMSE:',loss_df['root_mean_squared_error'].tail(1))\n",
    "print('\\nLoss:',loss_df['loss'].tail(1))\n",
    "print('\\nMAPE:',loss_df['mean_absolute_percentage_error'].tail(1))\n",
    "print('\\nval MAPE:',loss_df['val_mean_absolute_percentage_error'].tail(1))"
   ]
  }
 ],
 "metadata": {
  "kernelspec": {
   "display_name": "Python 3",
   "language": "python",
   "name": "python3"
  },
  "language_info": {
   "codemirror_mode": {
    "name": "ipython",
    "version": 3
   },
   "file_extension": ".py",
   "mimetype": "text/x-python",
   "name": "python",
   "nbconvert_exporter": "python",
   "pygments_lexer": "ipython3",
   "version": "3.8.8"
  }
 },
 "nbformat": 4,
 "nbformat_minor": 5
}
