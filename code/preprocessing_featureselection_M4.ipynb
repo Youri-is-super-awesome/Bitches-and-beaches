{
 "cells": [
  {
   "cell_type": "markdown",
   "metadata": {},
   "source": [
    "### PROJECT DESCRIPTION\n",
    "Estimate the value of houses in Ames, Iowa, using 79 explanatory variables. The dataset is fairly small, with only 1460 training samples. The 79 features in the dataset are a mix of categorical and numerical features, and leave a lot of room for feature engineering.\n",
    "\n",
    "This notebook merely preprocesses the data. \n",
    "Note: This is the first most basic preprocessing version used for models tested in chapter 1 and 2. "
   ]
  },
  {
   "cell_type": "code",
   "execution_count": null,
   "metadata": {},
   "outputs": [],
   "source": [
    "import pandas as pd\n",
    "import seaborn as sns\n",
    "import matplotlib.pyplot as plt\n",
    "import numpy as np\n",
    "from scipy.stats import zscore\n",
    "import tensorflow.keras as tf\n",
    "import pandas as pd\n",
    "import numpy as np"
   ]
  },
  {
   "cell_type": "code",
   "execution_count": null,
   "metadata": {},
   "outputs": [],
   "source": [
    "get_dummies = False"
   ]
  },
  {
   "cell_type": "code",
   "execution_count": null,
   "metadata": {},
   "outputs": [],
   "source": [
    "# determine tresholds for feature selection here:\n",
    "\n",
    "# numeric data\n",
    "correlation_treshold = 0.25\n",
    "\n",
    "# categorical data\n",
    "percentage_treshold = 0.1"
   ]
  },
  {
   "cell_type": "code",
   "execution_count": null,
   "metadata": {},
   "outputs": [],
   "source": [
    "# import data form keggle competition\n",
    "clean_data = pd.read_csv('data/AmesHousing.csv')\n",
    "test_data = pd.read_csv('data/test.csv')\n",
    "train_data = pd.read_csv('data/train.csv')\n",
    "\n",
    "clean_data.head()"
   ]
  },
  {
   "cell_type": "markdown",
   "metadata": {},
   "source": [
    "There are multiple types of variables. Integers, floats, strings, NaN's. Use df.info() to gain detailed insight.\n"
   ]
  },
  {
   "cell_type": "code",
   "execution_count": null,
   "metadata": {},
   "outputs": [],
   "source": [
    "# display data information\n",
    "clean_data.info()"
   ]
  },
  {
   "cell_type": "markdown",
   "metadata": {},
   "source": [
    "There are 2930 entries, numbered 0 to 2929, with **81 different features**. The **target feature** is 'SalePrice'. \n",
    "\n",
    "Out of all the columns there are several that have missing values. For instance, 'Alley', 'Pool QC', 'Fence', and 'Misc Feature'. These need to be fixed. "
   ]
  },
  {
   "cell_type": "markdown",
   "metadata": {},
   "source": [
    "### Cleaning the data"
   ]
  },
  {
   "cell_type": "markdown",
   "metadata": {},
   "source": [
    "#### Dropping features\n",
    "Drop features that are outliers, or have of which (almost) all data falls in the same category, or have unique values for each datapoint."
   ]
  },
  {
   "cell_type": "code",
   "execution_count": null,
   "metadata": {},
   "outputs": [],
   "source": [
    "# drop column 'Order' since it is unique for each house\n",
    "clean_data = clean_data.drop('Order', axis=1)"
   ]
  },
  {
   "cell_type": "code",
   "execution_count": null,
   "metadata": {},
   "outputs": [],
   "source": [
    "# drop column 'Order' since (almost) all data falls in the same category (> 95% in one category)\n",
    "clean_data = clean_data.drop('Street', axis=1)\n",
    "clean_data = clean_data.drop('Utilities', axis=1)\n",
    "clean_data = clean_data.drop('Condition 2', axis=1)\n",
    "clean_data = clean_data.drop('Roof Matl', axis=1)\n",
    "clean_data = clean_data.drop('Heating', axis=1)\n",
    "clean_data = clean_data.drop('Misc Feature', axis=1)"
   ]
  },
  {
   "cell_type": "markdown",
   "metadata": {},
   "source": [
    "First, the ourliers are checked by plotting the general living area with sale price, as is mentioned in the documentation of the dataset."
   ]
  },
  {
   "cell_type": "code",
   "execution_count": null,
   "metadata": {},
   "outputs": [],
   "source": [
    "sns.scatterplot(clean_data['Gr Liv Area'], clean_data['SalePrice'])\n",
    "plt.show()"
   ]
  },
  {
   "cell_type": "markdown",
   "metadata": {},
   "source": [
    "Garage year built is also plotted, since this shows also an outlier that is not possible"
   ]
  },
  {
   "cell_type": "code",
   "execution_count": null,
   "metadata": {},
   "outputs": [],
   "source": [
    "# plotting the garage year built to show outliers\n",
    "sns.scatterplot(clean_data['Garage Yr Blt'], clean_data['SalePrice'])\n",
    "plt.show()"
   ]
  },
  {
   "cell_type": "markdown",
   "metadata": {},
   "source": [
    "There are 5 ourliers visible that can be removed by removing datasamples with a general living area greater than 4000."
   ]
  },
  {
   "cell_type": "code",
   "execution_count": null,
   "metadata": {},
   "outputs": [],
   "source": [
    "mask = clean_data['Gr Liv Area'] > 4000\n",
    "drop_sample = clean_data[mask]\n",
    "clean_data = clean_data.drop(drop_sample.index, axis = 0)"
   ]
  },
  {
   "cell_type": "markdown",
   "metadata": {},
   "source": [
    "Additionally, the value for the garage that is build after 2200 is replaces by NaN. "
   ]
  },
  {
   "cell_type": "code",
   "execution_count": null,
   "metadata": {},
   "outputs": [],
   "source": [
    "mask = clean_data['Garage Yr Blt'] > 2010\n",
    "outlier_garage = clean_data['Garage Yr Blt'][mask]\n",
    "clean_data['Garage Yr Blt'][outlier_garage.index] = np.nan"
   ]
  },
  {
   "cell_type": "markdown",
   "metadata": {},
   "source": [
    "#### Dealing with categorical features who are classified as numeric features\n",
    "\n",
    "Some features in the dataset are stored as numeric data, but are actually categorical features. They are hence converted to string values, so they get the same treatment as categorical features.\n",
    "\n",
    "The only feature that is wrongly classified is: MS SubClass (the building class)"
   ]
  },
  {
   "cell_type": "code",
   "execution_count": null,
   "metadata": {},
   "outputs": [],
   "source": [
    "clean_data[\"MS SubClass\"] = clean_data[\"MS SubClass\"].apply(str)"
   ]
  },
  {
   "cell_type": "markdown",
   "metadata": {},
   "source": [
    "#### Changing ordinal categorical features to numerical features\n",
    "\n",
    "1. A function is made that can change ordinal categorical data to numerical features\n",
    "1. Dictonaries are created with the categories within features as keys and the corresponding numerical value as dictonary value\n",
    "3. Lists are created with the features that need to be replaced \n"
   ]
  },
  {
   "cell_type": "code",
   "execution_count": null,
   "metadata": {},
   "outputs": [],
   "source": [
    "def ordinal_to_num(lists, dicts):\n",
    "    '''\n",
    "    Takes a list and a dictonary. Replaces the categories in a feature to a nummerical.\n",
    "    '''\n",
    "    # loop over the features in the list\n",
    "    for feature in lists:\n",
    "        \n",
    "        # replace the categories for the feature with the value of the dictonary\n",
    "        if feature in clean_data:\n",
    "            clean_data[feature] = clean_data[feature].map(dicts)"
   ]
  },
  {
   "cell_type": "code",
   "execution_count": null,
   "metadata": {},
   "outputs": [],
   "source": [
    "# create the list and dictonary for the most common categories\n",
    "common_ordinal_dict = {'Ex':5, 'Gd': 4, 'TA': 3, 'Fa': 2, 'Po': 1, 'NA': 0}\n",
    "common_list_num_cats = ['Exter Qual', 'Exter Cond', 'Bsmt Cond', 'Heating QC', 'Kitchen Qual', 'Fireplace Qu', 'Garage Qual', 'Garage Cond', 'Bsmt Qual', 'Bsmt Qual']\n",
    "\n",
    "# change these to numerical features\n",
    "ordinal_to_num(common_list_num_cats, common_ordinal_dict)\n",
    "\n",
    "# create list and dict for Pool QC \n",
    "PoolQC_list = ['Pool QC']\n",
    "PoolQC_dict = {'Ex':4, 'Gd': 3, 'TA': 2, 'Fa': 1, 'NA': 0}\n",
    "\n",
    "# execute the change for Pool QC\n",
    "ordinal_to_num(PoolQC_list, PoolQC_dict)\n",
    "\n",
    "# create list and dict for Land Slope\n",
    "slope_list = ['Land Slope']\n",
    "slope_dict = {'Gtl': 1, 'Mod': 2, 'Sev': 3}\n",
    "\n",
    "# execute the change for Land slope\n",
    "ordinal_to_num(slope_list, slope_dict)\n",
    "\n",
    "# create list and dict for Bsmt Exposure\n",
    "Bsmt_exposure_list = ['Bsmt Exposure']\n",
    "Bsmt_exposure_dict = {'Gd': 4, 'Av': 3, 'Mn': 2, 'No': 1, 'NA': 0}\n",
    "\n",
    "# execute the change for Bsmt Exposure\n",
    "ordinal_to_num(Bsmt_exposure_list, Bsmt_exposure_dict)\n",
    "\n",
    "# create list and dict of the types of finished basement\n",
    "bsmtFin_list = ['BsmtFin Type 1', 'BsmtFin Type 2']\n",
    "bsmtFin_dict = {'GLQ': 6, 'ALQ': 5, 'BLQ': 4, 'Rec': 3, 'LwQ': 2, 'Unf': 1, 'NA': 0}\n",
    "\n",
    "# create list and dict of the types of unfinished basement\n",
    "ordinal_to_num(bsmtFin_list, bsmtFin_dict)\n",
    "\n",
    "display(clean_data)"
   ]
  },
  {
   "cell_type": "markdown",
   "metadata": {},
   "source": [
    "#### Dealing with missing values\n",
    "\n",
    "There are the following options/steps to deal with missing values:\n",
    "\n",
    "1. Delete the whole column (feature) containing the missing values\n",
    "2. Replace the missing values with some other value"
   ]
  },
  {
   "cell_type": "code",
   "execution_count": null,
   "metadata": {},
   "outputs": [],
   "source": [
    "# get overview of missing values\n",
    "clean_data.isnull()"
   ]
  },
  {
   "cell_type": "code",
   "execution_count": null,
   "metadata": {},
   "outputs": [],
   "source": [
    "def missing_data(df):\n",
    "    ''' \n",
    "    Calculates and returns the percentage of missing data per feature. \n",
    "    '''\n",
    "    percentage = 100 * df.isnull().sum() / len(df)\n",
    "    \n",
    "    # sort in ascending order\n",
    "    return percentage[percentage > 0].sort_values()\n",
    "\n",
    "percent_missing_data = missing_data(clean_data)\n",
    "\n",
    "sns.barplot(x = percent_missing_data.index, y = percent_missing_data)\n",
    "plt.title('Percentage of missing data per feature')\n",
    "plt.xlabel('Feature')\n",
    "plt.ylabel('Percent of missing values (%)')\n",
    "plt.xticks(rotation = 90)\n",
    "plt.show()\n"
   ]
  },
  {
   "cell_type": "markdown",
   "metadata": {},
   "source": [
    "**Option 1: Delete the whole column (feature) containing the missing values**"
   ]
  },
  {
   "cell_type": "code",
   "execution_count": null,
   "metadata": {},
   "outputs": [],
   "source": [
    "# drop features with more than 20% data missing\n",
    "drop_features = percent_missing_data[percent_missing_data >= 20]\n",
    "drop_features = drop_features.index.tolist()\n",
    "\n",
    "clean_data = clean_data.drop(drop_features, axis = 1)"
   ]
  },
  {
   "cell_type": "markdown",
   "metadata": {},
   "source": [
    "**Option 2: Replace the missing values with some other value**\n",
    "\n",
    "Replace the missing values with some other value. For **categorical data**, replace the missing value with 'none'.\n",
    "For **numerical data**, inspect each numeric feature seperately and decide how to best replace its missing values. \n",
    "First, single out the features that have missing values. "
   ]
  },
  {
   "cell_type": "code",
   "execution_count": null,
   "metadata": {},
   "outputs": [],
   "source": [
    "# select features that have missing values between 1 and 20 percent missing data\n",
    "discuss_features = percent_missing_data[percent_missing_data < 20]\n",
    "discuss_features = discuss_features.index.tolist()\n",
    "\n",
    "print(f\"The following features have less than 20% missing values: {', '.join(discuss_features)}\\n\")"
   ]
  },
  {
   "cell_type": "markdown",
   "metadata": {},
   "source": [
    "**1. Replace Lot Frontage**\n",
    "\n",
    "For lot frontage, the average lot frontage is taken per neighborhood and the missing value is replaced with the average of the neighborhood"
   ]
  },
  {
   "cell_type": "code",
   "execution_count": null,
   "metadata": {},
   "outputs": [],
   "source": [
    "# compute means of lot frontage per neighborhood\n",
    "lot_means = clean_data.groupby('Neighborhood')['Lot Frontage'].mean()\n",
    "\n",
    "# replace missing values \n",
    "clean_data['Lot Frontage'] = clean_data.groupby('Neighborhood')['Lot Frontage'].transform(lambda val: val.fillna(val.mean()))\n",
    "\n",
    "# for GrHill use Timber mean since it is the closest\n",
    "clean_data[clean_data['Neighborhood'] == 'GrnHill'] = clean_data[clean_data['Neighborhood'] == 'GrnHill'].fillna(lot_means['Timber'])\n",
    "\n",
    "# for Landmrk use Old Town mean since it is the closes\n",
    "clean_data[clean_data['Neighborhood'] == 'Landmrk'] = clean_data[clean_data['Neighborhood'] == 'Landmrk'].fillna(lot_means['OldTown'])\n"
   ]
  },
  {
   "cell_type": "markdown",
   "metadata": {},
   "source": [
    "**2. Garage year built**\n",
    "\n",
    "The average difference between the house year built and the garage year built is taken. When replacing the missing value for the garage year built, the House year built is taken, + the average difference.  "
   ]
  },
  {
   "cell_type": "code",
   "execution_count": null,
   "metadata": {},
   "outputs": [],
   "source": [
    "# define difference between building years of house and garage\n",
    "dev = clean_data['Year Built'] - clean_data['Garage Yr Blt']\n",
    "\n",
    "# define the average difference\n",
    "avg_dev = np.round((dev.sum() / len(dev)), 0)\n",
    "\n",
    "# fill the nan values with the building year house with the avg deviation\n",
    "clean_data['Garage Yr Blt'] = clean_data['Garage Yr Blt'].fillna(clean_data['Year Built'] + avg_dev)\n"
   ]
  },
  {
   "cell_type": "code",
   "execution_count": null,
   "metadata": {},
   "outputs": [],
   "source": [
    "def replace_values(dataframe):\n",
    "    '''\n",
    "    Replaces the missing values left in the dataframe. If the missing value is in a categorical feature, \n",
    "    we replace the value for a 'None' string. In this case, you can still use that feature. \n",
    "    For the numeric features, the missing values are replace with the average of that feature. \n",
    "    '''\n",
    "    for feature in dataframe:\n",
    "        # single out categorical features and replace missing value with none\n",
    "        if clean_data.dtypes[feature] == object:\n",
    "            clean_data[feature] = clean_data[feature].fillna('None')\n",
    "\n",
    "        # single out numerical features and replace missing value with mean\n",
    "        else: \n",
    "            clean_data[feature] = clean_data[feature].fillna(clean_data[feature].mean())\n",
    "    \n",
    "    return clean_data"
   ]
  },
  {
   "cell_type": "code",
   "execution_count": null,
   "metadata": {},
   "outputs": [],
   "source": [
    "# replace all missing values that are left\n",
    "clean_data = replace_values(clean_data)\n",
    "\n",
    "# check if all missing values are replaced\n",
    "clean_data.info()"
   ]
  },
  {
   "cell_type": "markdown",
   "metadata": {},
   "source": [
    "## Create new features\n",
    "\n",
    "**1. Price/square feet based on neighborhood**"
   ]
  },
  {
   "cell_type": "code",
   "execution_count": null,
   "metadata": {},
   "outputs": [],
   "source": [
    "# compute price per square feet and add to data frame \n",
    "clean_data['Price/SF'] = clean_data['SalePrice'] / clean_data['Gr Liv Area']\n",
    "\n",
    "# compute average price per square feet per neighborhood\n",
    "avg_price = clean_data.groupby('Neighborhood')['Price/SF'].mean()\n",
    "\n",
    "# make dictionary from series\n",
    "avg_price = avg_price.to_dict()\n",
    "\n",
    "# replace values in price per sf column with average price per neighborhood\n",
    "clean_data['Price/SF'] = clean_data['Neighborhood'].map(avg_price)"
   ]
  },
  {
   "cell_type": "markdown",
   "metadata": {},
   "source": [
    "**2. Garden**"
   ]
  },
  {
   "cell_type": "code",
   "execution_count": null,
   "metadata": {},
   "outputs": [],
   "source": [
    "clean_data['Garden Area'] = clean_data['Lot Area'] - (clean_data['Garage Area'] + clean_data['1st Flr SF'])"
   ]
  },
  {
   "cell_type": "markdown",
   "metadata": {},
   "source": [
    "**3. Age House**"
   ]
  },
  {
   "cell_type": "code",
   "execution_count": null,
   "metadata": {},
   "outputs": [],
   "source": [
    "clean_data['Age House'] = clean_data['Yr Sold'] - clean_data['Year Built']"
   ]
  },
  {
   "cell_type": "markdown",
   "metadata": {},
   "source": [
    "**4. Total area house**"
   ]
  },
  {
   "cell_type": "code",
   "execution_count": null,
   "metadata": {},
   "outputs": [],
   "source": [
    "clean_data['Total House Area'] = clean_data['Total Bsmt SF'] + clean_data['Gr Liv Area']"
   ]
  },
  {
   "cell_type": "markdown",
   "metadata": {},
   "source": [
    "**5. Total bathrooms**"
   ]
  },
  {
   "cell_type": "code",
   "execution_count": null,
   "metadata": {},
   "outputs": [],
   "source": [
    "clean_data['Total Bath'] = clean_data['Full Bath'] + clean_data['Bsmt Full Bath'] + clean_data['Bsmt Half Bath'] + clean_data['Half Bath']"
   ]
  },
  {
   "cell_type": "markdown",
   "metadata": {},
   "source": [
    "**6. Average surface per neighborhood**"
   ]
  },
  {
   "cell_type": "code",
   "execution_count": null,
   "metadata": {},
   "outputs": [],
   "source": [
    "avg_surface = clean_data.groupby('Neighborhood')['Gr Liv Area'].mean()\n",
    "\n",
    "# make dictionary from series\n",
    "avg_surface = avg_surface.to_dict()\n",
    "\n",
    "# replace values in price per sf column with average price per neighborhood\n",
    "clean_data['SF Difference'] = clean_data['Neighborhood'].map(avg_surface)\n",
    "\n",
    "clean_data['SF Difference'] = clean_data['Gr Liv Area'] - clean_data['SF Difference']"
   ]
  },
  {
   "cell_type": "markdown",
   "metadata": {},
   "source": [
    "## Numerical feature selection\n",
    "\n",
    "First, plot numerical features in relation to Sale Price."
   ]
  },
  {
   "attachments": {
    "image.png": {
     "image/png": "[encoded data removed]"
    }
   },
   "cell_type": "markdown",
   "metadata": {},
   "source": [
    "### Select relevant numerical features based on correlation\n",
    "\n",
    "Numerical features are selected based on their correlation with Sale Price and their respective correlations. The following values were used to determine a correlation.\n",
    "\n",
    "![image.png](attachment:image.png)\n",
    "\n",
    "\n",
    "\n",
    "First, we will look at the correlation between each feature and sale price.\n",
    "\n",
    "Then we will look whether the features are correlated to other features. When the correlation between two features is higher than 0.9, only one of the two features will be used."
   ]
  },
  {
   "cell_type": "code",
   "execution_count": null,
   "metadata": {},
   "outputs": [],
   "source": [
    "# compute correlations for every feature with the feature sale price\n",
    "price_correlations = abs(clean_data.corr()['SalePrice'].sort_values())\n",
    "\n",
    "# determine features with weak, moderate, and strong correlations to sale price\n",
    "weak_cor = price_correlations[price_correlations < 0.25]\n",
    "moderate_cor = price_correlations[np.logical_and(price_correlations < 0.75, price_correlations > 0.25)]\n",
    "strong_cor = price_correlations[price_correlations > 0.70] \n",
    "\n",
    "print(f'These features have a weak correlation to selling price\\n{weak_cor}\\n')\n",
    "print(f'These features have a moderate correlation to selling price\\n{moderate_cor}\\n')\n",
    "print(f'These features have a strong correlation to selling price\\n{strong_cor}\\n')\n",
    "\n",
    "# determine relevant numerical features \n",
    "relevant_num_features = price_correlations[price_correlations > correlation_treshold].index\n",
    "print(f\"Relevant features are: {', '.join(relevant_num_features)}\")"
   ]
  },
  {
   "cell_type": "code",
   "execution_count": null,
   "metadata": {},
   "outputs": [],
   "source": [
    "# creates a heatmap\n",
    "correlation_features = clean_data[relevant_num_features].corr()\n",
    "plt.figure(figsize = (10, 10))\n",
    "sns.heatmap(correlation_features, annot = True)\n",
    "\n",
    "plt.show()"
   ]
  },
  {
   "cell_type": "markdown",
   "metadata": {},
   "source": [
    "As seen above, none of the preselected numerical features hold a correlation of 0.9 or higher with eachother. Therefore, all of the features will be selected."
   ]
  },
  {
   "cell_type": "code",
   "execution_count": null,
   "metadata": {},
   "outputs": [],
   "source": [
    "# create dataframe with numerical data\n",
    "num_data = clean_data[relevant_num_features]\n",
    "num_data.head()"
   ]
  },
  {
   "cell_type": "markdown",
   "metadata": {},
   "source": [
    "## Categorical feature selection"
   ]
  },
  {
   "cell_type": "code",
   "execution_count": null,
   "metadata": {},
   "outputs": [],
   "source": [
    "# create dataframe with categorical data\n",
    "cat_data = clean_data.select_dtypes(include = 'object')\n",
    "cat_data.head()"
   ]
  },
  {
   "cell_type": "code",
   "execution_count": null,
   "metadata": {},
   "outputs": [],
   "source": [
    "# determine minimal and max house saleprice of dataset\n",
    "max_price = clean_data['SalePrice'].max()\n",
    "min_price = clean_data['SalePrice'].min()"
   ]
  },
  {
   "cell_type": "code",
   "execution_count": null,
   "metadata": {},
   "outputs": [],
   "source": [
    "# plot categorical features in relation to sale price\n",
    "def barplots(cat_data):\n",
    "    \"\"\"\n",
    "    Plots mainly categorical subfeatures as barplots\n",
    "    \"\"\"\n",
    "    for feature in cat_data:\n",
    "        sns.barplot(x = feature, y = 'SalePrice', data = clean_data)\n",
    "        plt.xticks(rotation = 90)\n",
    "        plt.ylim(min_price, max_price)\n",
    "        plt.show()"
   ]
  },
  {
   "cell_type": "markdown",
   "metadata": {},
   "source": [
    "**Determine which categorical features have strongest influence on sale price**\n",
    "\n",
    "Housing prices for these features should have at least 10% average difference between categories.\n",
    "\n",
    "For computing the average difference between housing prices of categories per feature, we used some code from: https://docs.python.org/3/library/itertools.html\n"
   ]
  },
  {
   "cell_type": "code",
   "execution_count": null,
   "metadata": {},
   "outputs": [],
   "source": [
    "import operator\n",
    "import itertools\n",
    "\n",
    "def select_cat_features(cat_data, perc_diff):\n",
    "    \"\"\"\n",
    "    Store the most useful categorical features in a list and return that list.\n",
    "    Useful categroical features are selected by the effect they have on the sale price,\n",
    "    in terms of mean sale price range within a feature (between its categories) and\n",
    "    how big that range is compared to the sale price range of the whole dataset.\n",
    "    The treshold is expressed in percentage of this sale price range.\n",
    "    \"\"\"\n",
    "    \n",
    "    relevant_cat_features = []\n",
    "\n",
    "    # set treshold on 10% sale price difference per feature\n",
    "    treshold = (max_price - min_price) * perc_diff\n",
    "\n",
    "    for feature in cat_data:\n",
    "        \n",
    "        # compute avereages for every feature for each category\n",
    "        avg_sp = clean_data.groupby(feature).mean().reset_index()\n",
    "\n",
    "        # we only need the average sale price and convert it to a list\n",
    "        sp_means = avg_sp['SalePrice'].tolist()\n",
    "\n",
    "        # compute average difference between housing prices of categories per feature\n",
    "        diffs = [abs(e[1] - e[0]) for e in itertools.permutations(sp_means, 2)]\n",
    "        mean_diff = sum(diffs)/len(diffs)\n",
    "        \n",
    "        # determine if feature passes the treshold for influenceon housing price\n",
    "        if mean_diff > treshold:\n",
    "            relevant_cat_features.append(feature)\n",
    "            \n",
    "    print(\"\\ntreshold:\", treshold)\n",
    "            \n",
    "    return relevant_cat_features\n",
    "\n",
    "# remove irrelevant features from cat data\n",
    "rel_cat_features = select_cat_features(cat_data, percentage_treshold)\n",
    "print('the relevant categorical features are:', rel_cat_features)\n",
    "cat_data = clean_data[rel_cat_features]"
   ]
  },
  {
   "cell_type": "code",
   "execution_count": null,
   "metadata": {},
   "outputs": [],
   "source": [
    "# get dummies from cat data\n",
    "if get_dummies == True:\n",
    "    cat_data = pd.get_dummies(cat_data, drop_first=True)"
   ]
  },
  {
   "cell_type": "markdown",
   "metadata": {},
   "source": [
    "## Rescaling data"
   ]
  },
  {
   "cell_type": "code",
   "execution_count": null,
   "metadata": {},
   "outputs": [],
   "source": [
    "# temporary remove target value Saleprice\n",
    "# because these should not be rescaled\n",
    "target = num_data['SalePrice']\n",
    "num_data = num_data.drop(['SalePrice'], axis=1)\n",
    "\n",
    "# store houses unique ID's in seperate series\n",
    "ID = clean_data['PID']\n",
    "\n",
    "# transform Sale Price in log Sale Price\n",
    "target = np.log10(target)\n",
    "\n",
    "# feature scale numerical data using zscore \n",
    "# note that we do not want to normalize our one-hot encoded data as those are already within [0,1] range\n",
    "# source: \"https://stackoverflow.com/a/41713622\"\n",
    "num_data = num_data.apply(zscore)"
   ]
  },
  {
   "cell_type": "code",
   "execution_count": null,
   "metadata": {},
   "outputs": [],
   "source": [
    "# merge categorical and numerical dataframe\n",
    "num_data = pd.concat([num_data, target, ID], axis = 1)\n",
    "clean_data = pd.concat([cat_data, num_data], axis = 1)\n",
    "\n",
    "# check ditribution of data\n",
    "display(clean_data.describe())"
   ]
  },
  {
   "cell_type": "markdown",
   "metadata": {},
   "source": [
    "## Splitting data in test and training data"
   ]
  },
  {
   "cell_type": "code",
   "execution_count": null,
   "metadata": {},
   "outputs": [],
   "source": [
    "# extract training and test houses in clean_data with ID\n",
    "train_ID = train_data['PID'].to_numpy()\n",
    "test_ID = test_data['PID'].to_numpy()\n",
    "\n",
    "# split dataframe into test and train data\n",
    "train_data = clean_data[clean_data['PID'].isin(train_ID)]\n",
    "test_data = clean_data[clean_data['PID'].isin(test_ID)]"
   ]
  },
  {
   "cell_type": "code",
   "execution_count": null,
   "metadata": {},
   "outputs": [],
   "source": [
    "# drop PID's\n",
    "clean_data = clean_data.drop('PID', axis=1)\n",
    "train_data = train_data.drop('PID', axis=1)\n",
    "test_data = test_data.drop('PID', axis=1)"
   ]
  },
  {
   "cell_type": "code",
   "execution_count": null,
   "metadata": {},
   "outputs": [],
   "source": [
    "# display info clean_data\n",
    "clean_data.head()"
   ]
  },
  {
   "cell_type": "markdown",
   "metadata": {},
   "source": [
    "## Exporting data to csv files"
   ]
  },
  {
   "cell_type": "code",
   "execution_count": null,
   "metadata": {},
   "outputs": [],
   "source": [
    "if get_dummies == True:\n",
    "    # export final cleaned dataframe to csv file  \n",
    "    clean_data.to_csv('data/preprocess_data.csv', index=False)  \n",
    "    train_data.to_csv('data/preprocess_train_data.csv', index=False)\n",
    "    test_data.to_csv('data/preprocess_test_data.csv', index=False)\n",
    "    \n",
    "else: \n",
    "    # export final cleaned dataframe to csv file  \n",
    "    clean_data.to_csv('data/preprocess_nodummies_data.csv', index=False)  "
   ]
  }
 ],
 "metadata": {
  "kernelspec": {
   "display_name": "Python 3",
   "language": "python",
   "name": "python3"
  },
  "language_info": {
   "codemirror_mode": {
    "name": "ipython",
    "version": 3
   },
   "file_extension": ".py",
   "mimetype": "text/x-python",
   "name": "python",
   "nbconvert_exporter": "python",
   "pygments_lexer": "ipython3",
   "version": "3.8.8"
  }
 },
 "nbformat": 4,
 "nbformat_minor": 4
}
